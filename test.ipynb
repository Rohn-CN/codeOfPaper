{
 "cells": [
  {
   "cell_type": "code",
   "execution_count": 1,
   "metadata": {},
   "outputs": [],
   "source": [
    "%load_ext autoreload\n",
    "%autoreload 2\n",
    "import numpy as np\n",
    "import cv2\n",
    "from detector_compare import *"
   ]
  },
  {
   "cell_type": "code",
   "execution_count": 2,
   "metadata": {},
   "outputs": [],
   "source": [
    "image1 = cv2.imread(r\"/Users/ronghao/code/stitch/pystitch/test_data/0146.jpg\")\n",
    "image2 = cv2.imread(r\"/Users/ronghao/code/stitch/pystitch/test_data/0148.jpg\")"
   ]
  },
  {
   "cell_type": "code",
   "execution_count": 5,
   "metadata": {},
   "outputs": [],
   "source": [
    "sift,surf,orb = create_detector()"
   ]
  },
  {
   "cell_type": "code",
   "execution_count": 12,
   "metadata": {},
   "outputs": [],
   "source": [
    "keypoints1,descriptor1 = sift.detectAndCompute(image1,None)\n",
    "keypoints2,descriptor2 = sift.detectAndCompute(image2,None)"
   ]
  },
  {
   "cell_type": "code",
   "execution_count": 15,
   "metadata": {},
   "outputs": [],
   "source": [
    "matcher = cv2.DescriptorMatcher.create(\"BruteForce\")\n",
    "matches = matcher.knnMatch(descriptor1,descriptor2,1)\n"
   ]
  },
  {
   "cell_type": "code",
   "execution_count": 21,
   "metadata": {},
   "outputs": [],
   "source": [
    "dst_pts = np.float32([keypoints1[match[0].queryIdx].pt for match in matches])\n",
    "src_pts = np.float32([keypoints2[match[0].trainIdx].pt for match in matches])"
   ]
  },
  {
   "cell_type": "code",
   "execution_count": 18,
   "metadata": {},
   "outputs": [],
   "source": []
  },
  {
   "cell_type": "code",
   "execution_count": 19,
   "metadata": {},
   "outputs": [
    {
     "data": {
      "text/plain": [
       "<DMatch 0x7faf89c345b0>"
      ]
     },
     "execution_count": 19,
     "metadata": {},
     "output_type": "execute_result"
    }
   ],
   "source": []
  },
  {
   "cell_type": "code",
   "execution_count": null,
   "metadata": {},
   "outputs": [],
   "source": []
  }
 ],
 "metadata": {
  "interpreter": {
   "hash": "cdb01336b81194c12226574c168421f351ebd1710426632e8f136c6428b73686"
  },
  "kernelspec": {
   "display_name": "Python 3.6.13 ('opencv_sift_surf2')",
   "language": "python",
   "name": "python3"
  },
  "language_info": {
   "name": "python",
   "version": "3.6.13"
  },
  "orig_nbformat": 4
 },
 "nbformat": 4,
 "nbformat_minor": 2
}
